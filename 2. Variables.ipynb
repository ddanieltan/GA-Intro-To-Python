{
 "cells": [
  {
   "cell_type": "markdown",
   "metadata": {},
   "source": [
    "## 2. Variables ##\n",
    "\n",
    "**Variables** are symbolic names that store a specific piece of information. Variables come in different types in order to hold different kinds of information.\n"
   ]
  },
  {
   "cell_type": "code",
   "execution_count": null,
   "metadata": {},
   "outputs": [],
   "source": [
    "# This is an example of a variable\n",
    "# We have assigned a variable named x, with the value of 9.\n",
    "x=9"
   ]
  },
  {
   "cell_type": "code",
   "execution_count": null,
   "metadata": {},
   "outputs": [],
   "source": [
    "# You can imagine that the value (9) is now \"saved\" as x.\n",
    "# Anytime we call x, we will print out that value.\n",
    "print(x)"
   ]
  },
  {
   "cell_type": "code",
   "execution_count": null,
   "metadata": {},
   "outputs": [],
   "source": [
    "# Variables allow us to encode more complex ideas. \n",
    "# Here are some simple algebraic representations using our variable x.\n",
    "print(x+1)\n",
    "print(x/3)\n",
    "print(x//2)"
   ]
  },
  {
   "cell_type": "code",
   "execution_count": null,
   "metadata": {},
   "outputs": [],
   "source": [
    "# If needed, we can also overwrite the value of x by reassigning a new value.\n",
    "x=17\n",
    "print(x)"
   ]
  },
  {
   "cell_type": "code",
   "execution_count": null,
   "metadata": {},
   "outputs": [],
   "source": [
    "# We can also reassign the value using an equation, instead of an explicit value\n",
    "x = x+1 # We increment the current x by 1 = 18. Then reassign 18 to x.\n",
    "print(x)"
   ]
  },
  {
   "cell_type": "code",
   "execution_count": null,
   "metadata": {},
   "outputs": [],
   "source": [
    "# A shortform of this increment + assignment is the += operator\n",
    "# This works for -= /= *= as well. Feel free to try it out.\n",
    "x += 1 # We increment the current x by 1 = 19. Then reassign 19 to x\n",
    "print(x)"
   ]
  },
  {
   "cell_type": "markdown",
   "metadata": {},
   "source": [
    "## Types ##\n",
    "So far, we've been working primarily with *integers* eg. 3, 17, 20.\n",
    "Let's also familiarise ourselves with the other common types.\n",
    "\n",
    "- **int** : whole number without decimal point\n",
    "- **float** : number with decimal point\n",
    "- **string** : text\n",
    "- **bool** : 1 or 0, True or False\n",
    "- **NoneType** : null value"
   ]
  },
  {
   "cell_type": "code",
   "execution_count": null,
   "metadata": {},
   "outputs": [],
   "source": [
    "# We can check the type of any variable using the type() function\n",
    "print(type(3))\n",
    "print(type(3.14))\n",
    "print(type('abc'))\n",
    "print(type(True))\n",
    "print(type(None))"
   ]
  },
  {
   "cell_type": "markdown",
   "metadata": {},
   "source": [
    "## Strings ##\n",
    "Strings are one of the most common data types we will encounter in Python.\n",
    "Here are some unique functions and characteristics of strings."
   ]
  },
  {
   "cell_type": "code",
   "execution_count": null,
   "metadata": {},
   "outputs": [],
   "source": [
    "# You can use '' or \"\" or \"\"\"\"\"\" to declare a string\n",
    "print('My favourite language is Python!')\n",
    "print(\"My favourite food is Python!\")\n",
    "print(\"\"\"\n",
    "I love Python so much\n",
    "that I want to write about it in multiple\n",
    "lines!\n",
    "\"\"\")\n"
   ]
  },
  {
   "cell_type": "code",
   "execution_count": null,
   "metadata": {},
   "outputs": [],
   "source": [
    "# But whichever quotation mark you choose, you have to be consistent\n",
    "print('this will raise an error\")"
   ]
  },
  {
   "cell_type": "code",
   "execution_count": null,
   "metadata": {},
   "outputs": [],
   "source": [
    "# Math operators do not work on strings\n",
    "a = 1\n",
    "print(a+1) # This works because addition works with integers\n",
    "\n",
    "b='abcdef'\n",
    "print(b+1) # This throws an error because addition does not work with strings"
   ]
  },
  {
   "cell_type": "code",
   "execution_count": null,
   "metadata": {},
   "outputs": [],
   "source": [
    "# Strings have their own set of special functions\n",
    "# For example, converting upper or lower case\n",
    "\n",
    "my_string='My favourite language is Python!'\n",
    "\n",
    "print(my_string.lower())\n",
    "print(my_string.upper())"
   ]
  },
  {
   "cell_type": "code",
   "execution_count": null,
   "metadata": {},
   "outputs": [],
   "source": [
    "# Replacing any character\n",
    "# Here is how to replace the ! in my_string with a .\n",
    "my_string.replace('!','.')"
   ]
  },
  {
   "cell_type": "code",
   "execution_count": null,
   "metadata": {},
   "outputs": [],
   "source": [
    "# F-strings, formatted strings\n",
    "# Here is how we can format our strings with inputs\n",
    "name='Daniel'\n",
    "language='Python'\n",
    "\n",
    "# add an f before your string to convert it into an f string\n",
    "# use curly brackets to call an external variable\n",
    "sentence=f'My name is {name} and my favourite language is {language}!'\n",
    "\n",
    "print(sentence)\n",
    "\n",
    "# Now try substituting name and language with something else and running this cell again\n"
   ]
  },
  {
   "cell_type": "code",
   "execution_count": null,
   "metadata": {},
   "outputs": [],
   "source": [
    "# Exercise 1\n",
    "# Print out the sentence with your user input for lastname\n",
    "# and replace Sunday with Thursday\n",
    "\n",
    "# add lastname= ...\n",
    "sentence = \"My last name is {lastname} and tomorrow is Sunday\"\n",
    "\n",
    "# complete the code below\n",
    "print(sentence.replace())\n"
   ]
  },
  {
   "cell_type": "markdown",
   "metadata": {},
   "source": [
    "## Booleans ##\n",
    "Many use cases require the simple binary encoding of the Boolean data type\n",
    "\n",
    "For example:\n",
    "- is_it_raining : True or False\n",
    "- did_i_pass_the_test : True or False\n",
    "\n"
   ]
  },
  {
   "cell_type": "code",
   "execution_count": null,
   "metadata": {},
   "outputs": [],
   "source": [
    "# Take note that Python is particular about the spelling of True and False\n",
    "print(type(True)) # this works\n",
    "print(type(TRUE)) # this throws an error\n",
    "print(type(true)) # this throws an error"
   ]
  },
  {
   "cell_type": "markdown",
   "metadata": {},
   "source": [
    "## None ##\n",
    "We reserve the keyword **None** for a data type that does nothing."
   ]
  },
  {
   "cell_type": "code",
   "execution_count": null,
   "metadata": {},
   "outputs": [],
   "source": [
    "# Observe how None is not the same as 0.\n",
    "\n",
    "## Integer\n",
    "x = 0\n",
    "x = x+1\n",
    "print(x)"
   ]
  },
  {
   "cell_type": "code",
   "execution_count": null,
   "metadata": {},
   "outputs": [],
   "source": [
    "## NoneType\n",
    "x = None\n",
    "x = x+1\n",
    "print(x)"
   ]
  },
  {
   "cell_type": "code",
   "execution_count": null,
   "metadata": {},
   "outputs": [],
   "source": [
    "# Consider, why do we need None as a data type?"
   ]
  },
  {
   "cell_type": "code",
   "execution_count": null,
   "metadata": {},
   "outputs": [],
   "source": [
    "# We can always cast an object from one type to another\n",
    "y=3\n",
    "print(type(y))\n",
    "\n",
    "# Casting int to float\n",
    "z=float(y)\n",
    "print(z)\n",
    "print(type(z))"
   ]
  }
 ],
 "metadata": {
  "kernelspec": {
   "display_name": "Python 3",
   "language": "python",
   "name": "python3"
  },
  "language_info": {
   "codemirror_mode": {
    "name": "ipython",
    "version": 3
   },
   "file_extension": ".py",
   "mimetype": "text/x-python",
   "name": "python",
   "nbconvert_exporter": "python",
   "pygments_lexer": "ipython3",
   "version": "3.6.7"
  }
 },
 "nbformat": 4,
 "nbformat_minor": 2
}
