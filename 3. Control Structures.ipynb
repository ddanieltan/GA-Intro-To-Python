{
 "cells": [
  {
   "cell_type": "markdown",
   "metadata": {},
   "source": [
    "## Control Structures ##\n",
    "\n",
    "A block of programming that analyses variables and chooses a direction in which to go based on given parameters is a **control structure**.\n",
    "\n",
    "The term **flow control** details the direction the program takes (how program logic “flows”). It determines how a computer will respond when given certain conditions and parameters. Some typical structures include:\n",
    "- **If** statements\n",
    "- **For** loops\n",
    "- **Functions** \n"
   ]
  },
  {
   "cell_type": "markdown",
   "metadata": {},
   "source": [
    "## Boolean operators ##\n",
    "The Boolean data type (True and False) allows us to use a variety of boolean operators\n",
    "- `==` : equals\n",
    "- `!=` : not equals\n",
    "- `>` : more than\n",
    "- `<` : less than\n",
    "- `>=` : more or equal than\n",
    "- `<=` : less of equal than"
   ]
  },
  {
   "cell_type": "code",
   "execution_count": null,
   "metadata": {},
   "outputs": [],
   "source": [
    "# Try changing the variable x and seeing how the boolean results change\n",
    "a=0\n",
    "\n",
    "print(a==0)\n",
    "print(a!=0)\n",
    "print(a>0)\n",
    "print(a<0)\n",
    "print(a>=0)\n",
    "print(a<=0)"
   ]
  },
  {
   "cell_type": "code",
   "execution_count": null,
   "metadata": {},
   "outputs": [],
   "source": [
    "# If needed, you can chain boolean operators\n",
    "a=3\n",
    "print (1 < a < 5)\n",
    "print (2 >= a >= 10)"
   ]
  },
  {
   "cell_type": "code",
   "execution_count": null,
   "metadata": {},
   "outputs": [],
   "source": [
    "# Together with the function `if ... else` we can create a simple control flow\n",
    "# Try changing the value of b, to change output printed\n",
    "b=0\n",
    "\n",
    "if (b==0):\n",
    "    print('The statement is True')\n",
    "else:\n",
    "    print('The statement is False')\n"
   ]
  },
  {
   "cell_type": "code",
   "execution_count": null,
   "metadata": {},
   "outputs": [],
   "source": [
    "# Take note. Python is particular that the line after a : is indented with 4 spaces\n",
    "\n",
    "if True:\n",
    "    print('This works')"
   ]
  },
  {
   "cell_type": "code",
   "execution_count": null,
   "metadata": {},
   "outputs": [],
   "source": [
    "if True:\n",
    "print(\"This doesn't\")"
   ]
  },
  {
   "cell_type": "code",
   "execution_count": null,
   "metadata": {},
   "outputs": [],
   "source": [
    "# if-elif-else\n",
    "# we can add a sequence of `if`s, `elif`s (else if) and `else` \n",
    "# to describe sequential logic flow\n",
    "\n",
    "val = 88\n",
    "if val >= 100:\n",
    "    print('value is equal or greater than 100')\n",
    "elif val > 10:\n",
    "    print('value is greater than 10 but less than 100')\n",
    "else:\n",
    "    print('value is equal or less than 10')"
   ]
  },
  {
   "cell_type": "code",
   "execution_count": null,
   "metadata": {},
   "outputs": [],
   "source": [
    "# Exercise 1\n",
    "# Try chaging the language to get a different output gretting\n",
    "\n",
    "greeting = 'Hello fellow Pythonista!'\n",
    "language = 'Italian'\n",
    "\n",
    "if language == 'Swedish':\n",
    "    greeting = 'Hejsan!'\n",
    "elif language == 'Finnish':\n",
    "    greeting = 'Latua perkele!'\n",
    "elif language == 'Spanish':\n",
    "    greeting = 'Hola!'\n",
    "elif language == 'German':\n",
    "    greeting = 'Guten Tag!'\n",
    "\n",
    "print(greeting)"
   ]
  },
  {
   "cell_type": "markdown",
   "metadata": {},
   "source": [
    "## For loops ##\n",
    "\n",
    "We can create a list of items using square brackets `[]`\n",
    "\n",
    "We can then use the `for` function to iterate through all the items in a list."
   ]
  },
  {
   "cell_type": "code",
   "execution_count": null,
   "metadata": {},
   "outputs": [],
   "source": [
    "names = ['Daniel','Adam','Bob','Charlie']"
   ]
  },
  {
   "cell_type": "code",
   "execution_count": null,
   "metadata": {},
   "outputs": [],
   "source": [
    "for name in names:\n",
    "    print(name)"
   ]
  },
  {
   "cell_type": "code",
   "execution_count": null,
   "metadata": {},
   "outputs": [],
   "source": [
    "# Ifs and For loops can be combined to encode complex operations\n",
    "# Example\n",
    "# Print out the numbers larger than 10 in the following list\n",
    "\n",
    "numbers =[2,14,5,35,2,5,99,2,4,51,23,94,8,3,22]\n",
    "for number in numbers:\n",
    "    if number>10:\n",
    "        print(number)"
   ]
  },
  {
   "cell_type": "markdown",
   "metadata": {},
   "source": [
    "## Functions ##\n",
    "If we find that we have some logic that requires repeated usage.\n",
    "It often makes sense to encapsulate the logic into a function."
   ]
  },
  {
   "cell_type": "code",
   "execution_count": null,
   "metadata": {},
   "outputs": [],
   "source": [
    "# Task: print the square of each number\n",
    "# Example of tedious, repeated code\n",
    "print(1**2)\n",
    "print(2**2)\n",
    "print(3**2)\n",
    "print(4**2)\n"
   ]
  },
  {
   "cell_type": "code",
   "execution_count": null,
   "metadata": {},
   "outputs": [],
   "source": [
    "# Instead lets use a function to reduce repetition\n",
    "# functions are invoked with the def keyword\n",
    "def square(x):\n",
    "    # This function returns the square of number x\n",
    "    return x**2\n",
    "\n",
    "for number in [1,2,3,4]:\n",
    "    print(square(number))"
   ]
  },
  {
   "cell_type": "code",
   "execution_count": null,
   "metadata": {},
   "outputs": [],
   "source": [
    "# Elsewhere in my code, if I ever need to square any number again\n",
    "# I can easily reuse the function\n",
    "\n",
    "# Task square the number 144\n",
    "\n",
    "print(square(144))"
   ]
  }
 ],
 "metadata": {
  "kernelspec": {
   "display_name": "Python 3",
   "language": "python",
   "name": "python3"
  },
  "language_info": {
   "codemirror_mode": {
    "name": "ipython",
    "version": 3
   },
   "file_extension": ".py",
   "mimetype": "text/x-python",
   "name": "python",
   "nbconvert_exporter": "python",
   "pygments_lexer": "ipython3",
   "version": "3.6.7"
  }
 },
 "nbformat": 4,
 "nbformat_minor": 2
}
