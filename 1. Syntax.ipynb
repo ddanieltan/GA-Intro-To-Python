{
 "cells": [
  {
   "cell_type": "markdown",
   "metadata": {},
   "source": [
    "# 1. Syntax#\n",
    "The **syntax** of a programming language is the set of rules that define the combinations of symbols that are considered to be correctly structured programs in that language\n",
    "\n",
    "Just like our spoken languages have structures like paragraphs and sentences, programming languages have **code blocks** and **statements**.\n"
   ]
  },
  {
   "cell_type": "markdown",
   "metadata": {},
   "source": [
    "\n",
    "## This is a Jupyter Notebook ##\n",
    "Jupyter Notebooks are ideal environments to run Python code.\n",
    "Just like a notebook, you are encouraged to write personal learning notes as we go along\n",
    "\n",
    "Key buttons\n",
    "- New code block\n",
    "- Cut, copy, paste\n",
    "- Move cell up and down\n",
    "- Run\n",
    "- Kernel > Restart & Clear All Output\n"
   ]
  },
  {
   "cell_type": "code",
   "execution_count": null,
   "metadata": {},
   "outputs": [],
   "source": [
    "# This is a code block\n",
    "# To run this code block, either click the 'Run' button above \n",
    "# or use the shortcut 'Shift-Enter'\n",
    "print('Welcome!')"
   ]
  },
  {
   "cell_type": "code",
   "execution_count": null,
   "metadata": {},
   "outputs": [],
   "source": [
    "# You might have noticed that lines starting with '#' are comments in gray\n",
    "# Python ignores these lines\n",
    "# Comments are important as they allow us to annotate our code with personal notes."
   ]
  },
  {
   "cell_type": "code",
   "execution_count": null,
   "metadata": {},
   "outputs": [],
   "source": [
    "# If you forgot to add '#', Python assumes you giving it coding instructions\n",
    "For example, running this code block should throw an error."
   ]
  },
  {
   "cell_type": "code",
   "execution_count": null,
   "metadata": {},
   "outputs": [],
   "source": [
    "# Speaking of errors...\n",
    "# Errors are a common thing to see when you're coding\n",
    "# Often, Python's error message gives us hints on what to fix in our code\n",
    "print('Something about this line is incorrect...'"
   ]
  },
  {
   "cell_type": "code",
   "execution_count": null,
   "metadata": {},
   "outputs": [],
   "source": [
    "# Exercise 1\n",
    "# Write code to print \"Hello, {your name}\" \n"
   ]
  },
  {
   "cell_type": "code",
   "execution_count": null,
   "metadata": {},
   "outputs": [],
   "source": [
    "# Exercise 2\n",
    "# Try running this code. \n",
    "# Use the hint in the error message to fix the code\n",
    "print 'What went wrong?'"
   ]
  },
  {
   "cell_type": "markdown",
   "metadata": {},
   "source": [
    "## Python as a powerful calculator ##\n",
    "One of the best uses of Python is as a **powerful** and **expressive** calculator.\n"
   ]
  },
  {
   "cell_type": "code",
   "execution_count": null,
   "metadata": {},
   "outputs": [],
   "source": [
    "# Basic math operations\n",
    "print(2 + 5)\n",
    "print(3 - 10)\n",
    "print(2 * 13)\n",
    "print(20/4)"
   ]
  },
  {
   "cell_type": "code",
   "execution_count": null,
   "metadata": {},
   "outputs": [],
   "source": [
    "# We can use brackets to express more complex operations\n",
    "(50 - 5*6) / 4"
   ]
  },
  {
   "cell_type": "code",
   "execution_count": null,
   "metadata": {},
   "outputs": [],
   "source": [
    "# For special use cases, Python gives us some advanced operators\n",
    "print(17 / 3)  # classic division\n",
    "\n",
    "print(17 // 3)  # floor division discards the fractional part\n",
    "\n",
    "print(17 % 3)  # the % operator returns the remainder of the division\n"
   ]
  }
 ],
 "metadata": {
  "kernelspec": {
   "display_name": "Python 3",
   "language": "python",
   "name": "python3"
  },
  "language_info": {
   "codemirror_mode": {
    "name": "ipython",
    "version": 3
   },
   "file_extension": ".py",
   "mimetype": "text/x-python",
   "name": "python",
   "nbconvert_exporter": "python",
   "pygments_lexer": "ipython3",
   "version": "3.6.7"
  }
 },
 "nbformat": 4,
 "nbformat_minor": 2
}
