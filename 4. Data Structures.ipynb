{
 "cells": [
  {
   "cell_type": "markdown",
   "metadata": {},
   "source": [
    "## 4. Data Structures ##\n",
    "\n",
    "A **data structure** is a particular way of storing and organizing data in a computer so that it can be used efficiently. \n",
    "\n",
    "Some examples in Python include:\n",
    "- Lists\n",
    "- Tuples\n",
    "- Dictionaries\n"
   ]
  },
  {
   "cell_type": "markdown",
   "metadata": {},
   "source": [
    "## Lists ##\n",
    "Lists are declared with the `[]` symbols.\n",
    "\n",
    "Lists are very useful data types everytime we need to create a collection of elements.\n"
   ]
  },
  {
   "cell_type": "code",
   "execution_count": null,
   "metadata": {},
   "outputs": [],
   "source": [
    "# creating\n",
    "a = [1, 2, 3, 4, 5]     # create lists using brackets\n"
   ]
  },
  {
   "cell_type": "code",
   "execution_count": null,
   "metadata": {},
   "outputs": [],
   "source": [
    "# slicing a list\n",
    "print(a[0])        # returns 1 (Python is zero indexed)\n",
    "print(a[1:3])  # returns [2, 3] (inclusive of first index but exclusive of second)\n",
    "print(a[-1])     # returns 5 (last element)\n"
   ]
  },
  {
   "cell_type": "code",
   "execution_count": null,
   "metadata": {},
   "outputs": [],
   "source": [
    "# appending elements to a list\n",
    "print(a[5]) = 6        # error because you can't assign outside the existing range\n"
   ]
  },
  {
   "cell_type": "code",
   "execution_count": null,
   "metadata": {},
   "outputs": [],
   "source": [
    "# Instead use the .append() method or plus sign\n",
    "a.append(6)# list method that appends 6 to the end\n",
    "print (a)\n"
   ]
  },
  {
   "cell_type": "code",
   "execution_count": null,
   "metadata": {},
   "outputs": [],
   "source": [
    "a = a + [0]     # use plus sign to combine lists\n",
    "print(a)"
   ]
  },
  {
   "cell_type": "code",
   "execution_count": null,
   "metadata": {},
   "outputs": [],
   "source": [
    "# checking length\n",
    "print(len(a))     # returns number of elements in list"
   ]
  },
  {
   "cell_type": "code",
   "execution_count": null,
   "metadata": {},
   "outputs": [],
   "source": [
    "# checking type\n",
    "print(type(a))  # a is a list\n",
    "print(type(a[0]))  # the 1st element of a is an int\n"
   ]
  },
  {
   "cell_type": "code",
   "execution_count": null,
   "metadata": {},
   "outputs": [],
   "source": [
    "# sorting\n",
    "print(sorted(a))             # sorts the list\n",
    "print(sorted(a, reverse=True)) # reverse=True is an 'optional argument'"
   ]
  },
  {
   "cell_type": "markdown",
   "metadata": {},
   "source": [
    "## Tuples ##\n",
    "Very similar to a list, but immutable (items cannot be added/removed).\n",
    "\n",
    "Tuples are declared using the rounded brackets `()`."
   ]
  },
  {
   "cell_type": "code",
   "execution_count": null,
   "metadata": {},
   "outputs": [],
   "source": [
    "point = (10,20)"
   ]
  },
  {
   "cell_type": "code",
   "execution_count": null,
   "metadata": {},
   "outputs": [],
   "source": [
    "# We can slice a tuple just like a list\n",
    "# The following gives us the first element in the tuple\n",
    "point[0]"
   ]
  },
  {
   "cell_type": "code",
   "execution_count": null,
   "metadata": {},
   "outputs": [],
   "source": [
    "# But we cannot append new items to tuples\n",
    "my_list=[1,2]\n",
    "my_list.append(3) # this works\n",
    "\n",
    "my_tuple=(1,2)\n",
    "my_tuple.append(3) # this doesn't"
   ]
  },
  {
   "cell_type": "code",
   "execution_count": null,
   "metadata": {},
   "outputs": [],
   "source": [
    "# Consider, why do we need tuples? Why are they useful?"
   ]
  },
  {
   "cell_type": "markdown",
   "metadata": {},
   "source": [
    "## Dictionaries ##\n",
    "Dictionaries are a data structure that is well suited for key/value pairs.\n",
    "It facilitates use cases where you can look up for values by keys, rather than iterating through the entire list.\n",
    "\n",
    "Dictionaries are declared using the curly braces `{}`."
   ]
  },
  {
   "cell_type": "code",
   "execution_count": null,
   "metadata": {},
   "outputs": [],
   "source": [
    "my_dictionary={'a':'apple',\n",
    "               'b':'boy',\n",
    "              'c':'cat'}"
   ]
  },
  {
   "cell_type": "code",
   "execution_count": null,
   "metadata": {},
   "outputs": [],
   "source": [
    "# If I know the exact key, I can jump pull my value directly\n",
    "print(my_dictionary['c'])"
   ]
  },
  {
   "cell_type": "code",
   "execution_count": null,
   "metadata": {},
   "outputs": [],
   "source": [
    "# Compare this to a list, which requires us to iterate through the entire list\n",
    "my_list=['apple','boy','cat']\n",
    "for item in my_list:\n",
    "    if item=='cat':\n",
    "        print(item + ' correct!')\n",
    "    else:\n",
    "        print(item + ' wrong!')"
   ]
  }
 ],
 "metadata": {
  "kernelspec": {
   "display_name": "Python 3",
   "language": "python",
   "name": "python3"
  },
  "language_info": {
   "codemirror_mode": {
    "name": "ipython",
    "version": 3
   },
   "file_extension": ".py",
   "mimetype": "text/x-python",
   "name": "python",
   "nbconvert_exporter": "python",
   "pygments_lexer": "ipython3",
   "version": "3.6.7"
  }
 },
 "nbformat": 4,
 "nbformat_minor": 2
}
